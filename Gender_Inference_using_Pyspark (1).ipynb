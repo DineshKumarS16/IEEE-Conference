{
  "nbformat": 4,
  "nbformat_minor": 0,
  "metadata": {
    "colab": {
      "provenance": []
    },
    "kernelspec": {
      "name": "python3",
      "display_name": "Python 3"
    },
    "language_info": {
      "name": "python"
    }
  },
  "cells": [
    {
      "cell_type": "code",
      "execution_count": null,
      "metadata": {
        "colab": {
          "base_uri": "https://localhost:8080/"
        },
        "id": "97D5CDBdaqmn",
        "outputId": "4ec1ed71-cfd4-4482-aa1c-49cd07cc306e"
      },
      "outputs": [
        {
          "output_type": "stream",
          "name": "stdout",
          "text": [
            "Collecting pyspark\n",
            "  Downloading pyspark-3.5.0.tar.gz (316.9 MB)\n",
            "\u001b[2K     \u001b[90m━━━━━━━━━━━━━━━━━━━━━━━━━━━━━━━━━━━━━━━━\u001b[0m \u001b[32m316.9/316.9 MB\u001b[0m \u001b[31m3.7 MB/s\u001b[0m eta \u001b[36m0:00:00\u001b[0m\n",
            "\u001b[?25h  Preparing metadata (setup.py) ... \u001b[?25l\u001b[?25hdone\n",
            "Requirement already satisfied: py4j==0.10.9.7 in /usr/local/lib/python3.10/dist-packages (from pyspark) (0.10.9.7)\n",
            "Building wheels for collected packages: pyspark\n",
            "  Building wheel for pyspark (setup.py) ... \u001b[?25l\u001b[?25hdone\n",
            "  Created wheel for pyspark: filename=pyspark-3.5.0-py2.py3-none-any.whl size=317425345 sha256=109f226ef32e3bf9e06998f3a50b7328810ca9dc1446fcfe67abf4c809761f2e\n",
            "  Stored in directory: /root/.cache/pip/wheels/41/4e/10/c2cf2467f71c678cfc8a6b9ac9241e5e44a01940da8fbb17fc\n",
            "Successfully built pyspark\n",
            "Installing collected packages: pyspark\n",
            "Successfully installed pyspark-3.5.0\n"
          ]
        }
      ],
      "source": [
        "!pip install pyspark"
      ]
    },
    {
      "cell_type": "code",
      "source": [
        "import pyspark"
      ],
      "metadata": {
        "id": "s93yOtgma07L"
      },
      "execution_count": null,
      "outputs": []
    },
    {
      "cell_type": "code",
      "source": [
        "from pyspark.sql import SparkSession"
      ],
      "metadata": {
        "id": "ApDKOlC4dLGG"
      },
      "execution_count": null,
      "outputs": []
    },
    {
      "cell_type": "code",
      "source": [
        "spark = SparkSession.builder.appName(\"Gender Classification\").getOrCreate()"
      ],
      "metadata": {
        "id": "UfxeGMV1dSX4"
      },
      "execution_count": null,
      "outputs": []
    },
    {
      "cell_type": "code",
      "source": [
        "df = spark.read.csv('/gender_classification.csv', header=True, inferSchema=True)"
      ],
      "metadata": {
        "id": "bcI_280bdZju"
      },
      "execution_count": null,
      "outputs": []
    },
    {
      "cell_type": "code",
      "source": [
        "df.show()"
      ],
      "metadata": {
        "colab": {
          "base_uri": "https://localhost:8080/"
        },
        "id": "CiCfOICkgz8U",
        "outputId": "3b91d348-c28d-4eec-f031-a4880a8df632"
      },
      "execution_count": null,
      "outputs": [
        {
          "output_type": "stream",
          "name": "stdout",
          "text": [
            "+---------+-----------------+------------------+---------+---------+---------+-------------------------+------+\n",
            "|long_hair|forehead_width_cm|forehead_height_cm|nose_wide|nose_long|lips_thin|distance_nose_to_lip_long|gender|\n",
            "+---------+-----------------+------------------+---------+---------+---------+-------------------------+------+\n",
            "|        1|             11.8|               6.1|        1|        0|        1|                        1|  Male|\n",
            "|        0|             14.0|               5.4|        0|        0|        1|                        0|Female|\n",
            "|        0|             11.8|               6.3|        1|        1|        1|                        1|  Male|\n",
            "|        0|             14.4|               6.1|        0|        1|        1|                        1|  Male|\n",
            "|        1|             13.5|               5.9|        0|        0|        0|                        0|Female|\n",
            "|        1|             13.0|               6.8|        1|        1|        1|                        1|  Male|\n",
            "|        1|             15.3|               6.2|        1|        1|        1|                        0|  Male|\n",
            "|        0|             13.0|               5.2|        0|        0|        0|                        0|Female|\n",
            "|        1|             11.9|               5.4|        1|        0|        1|                        1|Female|\n",
            "|        1|             12.1|               5.4|        0|        0|        0|                        0|Female|\n",
            "|        0|             12.5|               5.4|        1|        1|        1|                        1|  Male|\n",
            "|        1|             15.5|               5.8|        1|        1|        1|                        1|  Male|\n",
            "|        0|             14.7|               5.2|        1|        1|        1|                        1|  Male|\n",
            "|        1|             14.5|               6.7|        0|        1|        1|                        1|  Male|\n",
            "|        1|             14.2|               6.5|        0|        0|        0|                        0|Female|\n",
            "|        0|             12.5|               5.2|        1|        1|        1|                        1|  Male|\n",
            "|        1|             15.2|               6.0|        1|        1|        1|                        1|  Male|\n",
            "|        1|             14.0|               5.9|        0|        0|        0|                        0|Female|\n",
            "|        1|             11.9|               5.2|        0|        0|        0|                        0|Female|\n",
            "|        1|             14.4|               5.6|        1|        0|        1|                        1|  Male|\n",
            "+---------+-----------------+------------------+---------+---------+---------+-------------------------+------+\n",
            "only showing top 20 rows\n",
            "\n"
          ]
        }
      ]
    },
    {
      "cell_type": "code",
      "source": [
        "from pyspark.ml.feature import VectorAssembler, StringIndexer, Imputer"
      ],
      "metadata": {
        "id": "ikTTosC-g3wO"
      },
      "execution_count": null,
      "outputs": []
    },
    {
      "cell_type": "code",
      "source": [
        "missing_counts = [(col, df.filter(df[col].isNull()).count()) for col in df.columns]\n",
        "print(\"Missing Values:\")\n",
        "for col, count in missing_counts:\n",
        "    print(f\"{col}: {count}\")"
      ],
      "metadata": {
        "colab": {
          "base_uri": "https://localhost:8080/"
        },
        "id": "hqXEcOKmqGzJ",
        "outputId": "7c300367-e119-4c46-f377-1ccd13417757"
      },
      "execution_count": null,
      "outputs": [
        {
          "output_type": "stream",
          "name": "stdout",
          "text": [
            "Missing Values:\n",
            "long_hair: 0\n",
            "forehead_width_cm: 0\n",
            "forehead_height_cm: 0\n",
            "nose_wide: 0\n",
            "nose_long: 0\n",
            "lips_thin: 0\n",
            "distance_nose_to_lip_long: 0\n",
            "gender: 0\n"
          ]
        }
      ]
    },
    {
      "cell_type": "code",
      "source": [
        "label_indexer = StringIndexer(inputCol=\"gender\", outputCol=\"label\")\n",
        "feature_cols = [\"long_hair\", \"forehead_width_cm\", \"forehead_height_cm\", \"nose_wide\", \"nose_long\", \"lips_thin\", \"distance_nose_to_lip_long\"]\n",
        "vector_assembler = VectorAssembler(inputCols=feature_cols, outputCol=\"features\")"
      ],
      "metadata": {
        "id": "q0g5XeG_hvDC"
      },
      "execution_count": null,
      "outputs": []
    },
    {
      "cell_type": "code",
      "source": [
        "from pyspark.ml.feature import StandardScaler\n",
        "scaler = StandardScaler(inputCol=\"raw_features\", outputCol=\"features\", withStd=True, withMean=False)"
      ],
      "metadata": {
        "id": "Q6MDU3JblwZV"
      },
      "execution_count": null,
      "outputs": []
    },
    {
      "cell_type": "code",
      "source": [
        "(training_data, testing_data) = df.randomSplit([0.8, 0.2], seed=123)"
      ],
      "metadata": {
        "id": "1Zf9OWnqiAms"
      },
      "execution_count": null,
      "outputs": []
    },
    {
      "cell_type": "code",
      "source": [
        "from pyspark.ml.classification import LogisticRegression\n",
        "logistic_regression = LogisticRegression(maxIter=10, regParam=0.3, elasticNetParam=0.8)"
      ],
      "metadata": {
        "id": "Z4PD2AUyiJv0"
      },
      "execution_count": null,
      "outputs": []
    },
    {
      "cell_type": "code",
      "source": [
        "from pyspark.ml import Pipeline\n",
        "pipeline_lr = Pipeline(stages=[label_indexer, vector_assembler, logistic_regression])"
      ],
      "metadata": {
        "id": "s6ZZwh-8ineP"
      },
      "execution_count": null,
      "outputs": []
    },
    {
      "cell_type": "code",
      "source": [
        "model_lr = pipeline_lr.fit(training_data)"
      ],
      "metadata": {
        "id": "7b8uV0OWirwb"
      },
      "execution_count": null,
      "outputs": []
    },
    {
      "cell_type": "code",
      "source": [
        "predictions_lr = model_lr.transform(testing_data)"
      ],
      "metadata": {
        "id": "n8o76eTOi6nL"
      },
      "execution_count": null,
      "outputs": []
    },
    {
      "cell_type": "code",
      "source": [
        "from pyspark.ml.evaluation import MulticlassClassificationEvaluator"
      ],
      "metadata": {
        "id": "KEr5Cw3Li_D2"
      },
      "execution_count": null,
      "outputs": []
    },
    {
      "cell_type": "code",
      "source": [
        "evaluator = MulticlassClassificationEvaluator(labelCol=\"label\", predictionCol=\"prediction\", metricName=\"accuracy\")\n",
        "accuracy_lr = evaluator.evaluate(predictions_lr)\n",
        "print(f\"Logistic Regression Accuracy: {accuracy_lr}\")"
      ],
      "metadata": {
        "colab": {
          "base_uri": "https://localhost:8080/"
        },
        "id": "e9mCG6Y6j2-r",
        "outputId": "7d45cdad-8c6d-4f5e-b094-dfbb7f6ce1fc"
      },
      "execution_count": null,
      "outputs": [
        {
          "output_type": "stream",
          "name": "stdout",
          "text": [
            "Logistic Regression Accuracy: 0.9531405782652044\n"
          ]
        }
      ]
    },
    {
      "cell_type": "code",
      "source": [
        "from pyspark.mllib.evaluation import MulticlassMetrics"
      ],
      "metadata": {
        "id": "hrcE41P9aQuY"
      },
      "execution_count": null,
      "outputs": []
    },
    {
      "cell_type": "code",
      "source": [
        "prediction_and_label_lr = predictions_lr.select(\"prediction\", \"label\").rdd"
      ],
      "metadata": {
        "id": "Ejs68mWWaQxK"
      },
      "execution_count": null,
      "outputs": []
    },
    {
      "cell_type": "code",
      "source": [
        "metrics_lr = MulticlassMetrics(prediction_and_label_lr)"
      ],
      "metadata": {
        "colab": {
          "base_uri": "https://localhost:8080/"
        },
        "id": "9olhc7zHaQ0j",
        "outputId": "36d3ea71-a1f9-40dc-f79b-97f2c4e53e4f"
      },
      "execution_count": null,
      "outputs": [
        {
          "output_type": "stream",
          "name": "stderr",
          "text": [
            "/usr/local/lib/python3.10/dist-packages/pyspark/sql/context.py:158: FutureWarning: Deprecated in 3.0.0. Use SparkSession.builder.getOrCreate() instead.\n",
            "  warnings.warn(\n"
          ]
        }
      ]
    },
    {
      "cell_type": "code",
      "source": [
        "confusion_matrix = metrics_lr.confusionMatrix()\n",
        "precision = metrics_lr.precision(0.0)\n",
        "recall = metrics_lr.recall(0.0)\n",
        "f1Score = metrics_lr.fMeasure(0.0)\n",
        "print(\"Confusion Matrix:\")\n",
        "print(confusion_matrix)\n",
        "print(f\"Precision: {precision}\")\n",
        "print(f\"Recall: {recall}\")\n",
        "print(f\"F1 Score: {f1Score}\")"
      ],
      "metadata": {
        "colab": {
          "base_uri": "https://localhost:8080/"
        },
        "id": "0AO08FeFosFZ",
        "outputId": "1d0ef4b6-0097-4485-9a57-3d4db02699e7"
      },
      "execution_count": null,
      "outputs": [
        {
          "output_type": "stream",
          "name": "stdout",
          "text": [
            "Confusion Matrix:\n",
            "DenseMatrix([[464.,  12.],\n",
            "             [ 35., 492.]])\n",
            "Precision: 0.9298597194388778\n",
            "Recall: 0.9747899159663865\n",
            "F1 Score: 0.9517948717948718\n"
          ]
        }
      ]
    },
    {
      "cell_type": "code",
      "source": [
        "from pyspark.ml.classification import DecisionTreeClassifier\n",
        "decision_tree = DecisionTreeClassifier(labelCol=\"label\", featuresCol=\"features\")\n",
        "pipeline_dt = Pipeline(stages=[label_indexer, vector_assembler, decision_tree])\n",
        "model_dt = pipeline_dt.fit(training_data)\n",
        "predictions_dt = model_dt.transform(testing_data)\n",
        "accuracy_dt = evaluator.evaluate(predictions_dt)\n",
        "print(f\"Decision Tree Accuracy: {accuracy_dt}\")"
      ],
      "metadata": {
        "colab": {
          "base_uri": "https://localhost:8080/"
        },
        "id": "9eESDa8Jj-ql",
        "outputId": "cdfacabb-ad6a-4e38-bc1a-7742fbbd52c8"
      },
      "execution_count": null,
      "outputs": [
        {
          "output_type": "stream",
          "name": "stdout",
          "text": [
            "Decision Tree Accuracy: 0.9621136590229312\n"
          ]
        }
      ]
    },
    {
      "cell_type": "code",
      "source": [
        "prediction_and_label_dt = predictions_dt.select(\"prediction\", \"label\").rdd"
      ],
      "metadata": {
        "id": "_IOsA2nRo78Z"
      },
      "execution_count": null,
      "outputs": []
    },
    {
      "cell_type": "code",
      "source": [
        "metrics_dt = MulticlassMetrics(prediction_and_label_dt)"
      ],
      "metadata": {
        "colab": {
          "base_uri": "https://localhost:8080/"
        },
        "id": "qPaZ8nEOo7_Z",
        "outputId": "877861b8-a01e-49e3-c5ea-3973ae7bb6b0"
      },
      "execution_count": null,
      "outputs": [
        {
          "output_type": "stream",
          "name": "stderr",
          "text": [
            "/usr/local/lib/python3.10/dist-packages/pyspark/sql/context.py:158: FutureWarning: Deprecated in 3.0.0. Use SparkSession.builder.getOrCreate() instead.\n",
            "  warnings.warn(\n"
          ]
        }
      ]
    },
    {
      "cell_type": "code",
      "source": [
        "confusion_matrix = metrics_dt.confusionMatrix()\n",
        "precision = metrics_dt.precision(0.0)\n",
        "recall = metrics_dt.recall(0.0)\n",
        "f1Score = metrics_dt.fMeasure(0.0)\n",
        "print(\"Confusion Matrix:\")\n",
        "print(confusion_matrix)\n",
        "print(f\"Precision: {precision}\")\n",
        "print(f\"Recall: {recall}\")\n",
        "print(f\"F1 Score: {f1Score}\")"
      ],
      "metadata": {
        "colab": {
          "base_uri": "https://localhost:8080/"
        },
        "id": "IKPjTdQlo8DE",
        "outputId": "1ff89d2e-7326-427a-8424-0ae36574394a"
      },
      "execution_count": null,
      "outputs": [
        {
          "output_type": "stream",
          "name": "stdout",
          "text": [
            "Confusion Matrix:\n",
            "DenseMatrix([[464.,  12.],\n",
            "             [ 26., 501.]])\n",
            "Precision: 0.9469387755102041\n",
            "Recall: 0.9747899159663865\n",
            "F1 Score: 0.9606625258799173\n"
          ]
        }
      ]
    },
    {
      "cell_type": "code",
      "source": [
        "from pyspark.ml.classification import RandomForestClassifier\n",
        "random_forest = RandomForestClassifier(labelCol=\"label\", featuresCol=\"features\", numTrees=10)\n",
        "pipeline_rf = Pipeline(stages=[label_indexer, vector_assembler, random_forest])\n",
        "model_rf = pipeline_rf.fit(training_data)\n",
        "predictions_rf = model_rf.transform(testing_data)\n",
        "accuracy_rf = evaluator.evaluate(predictions_rf)\n",
        "print(f\"Random Forest Accuracy: {accuracy_rf}\")"
      ],
      "metadata": {
        "colab": {
          "base_uri": "https://localhost:8080/"
        },
        "id": "wcTtYPOfn8GT",
        "outputId": "47a5d886-a64b-4b0d-8faa-3228c5e1b33f"
      },
      "execution_count": null,
      "outputs": [
        {
          "output_type": "stream",
          "name": "stdout",
          "text": [
            "Random Forest Accuracy: 0.967098703888335\n"
          ]
        }
      ]
    },
    {
      "cell_type": "code",
      "source": [
        "prediction_and_label_rf = predictions_rf.select(\"prediction\", \"label\").rdd"
      ],
      "metadata": {
        "id": "yOExjCvYpALD"
      },
      "execution_count": null,
      "outputs": []
    },
    {
      "cell_type": "code",
      "source": [
        "metrics_rf = MulticlassMetrics(prediction_and_label_rf)"
      ],
      "metadata": {
        "colab": {
          "base_uri": "https://localhost:8080/"
        },
        "id": "WIvBfx-UpAON",
        "outputId": "fa7f298a-9610-4142-a6d6-36309b5641ad"
      },
      "execution_count": null,
      "outputs": [
        {
          "output_type": "stream",
          "name": "stderr",
          "text": [
            "/usr/local/lib/python3.10/dist-packages/pyspark/sql/context.py:158: FutureWarning: Deprecated in 3.0.0. Use SparkSession.builder.getOrCreate() instead.\n",
            "  warnings.warn(\n"
          ]
        }
      ]
    },
    {
      "cell_type": "code",
      "source": [
        "confusion_matrix = metrics_rf.confusionMatrix()\n",
        "precision = metrics_rf.precision(0.0)\n",
        "recall = metrics_rf.recall(0.0)\n",
        "f1Score = metrics_rf.fMeasure(0.0)\n",
        "print(\"Confusion Matrix:\")\n",
        "print(confusion_matrix)\n",
        "print(f\"Precision: {precision}\")\n",
        "print(f\"Recall: {recall}\")\n",
        "print(f\"F1 Score: {f1Score}\")"
      ],
      "metadata": {
        "colab": {
          "base_uri": "https://localhost:8080/"
        },
        "id": "zjspimlhpARp",
        "outputId": "29876313-5669-4b30-baf5-bb105f3659d0"
      },
      "execution_count": null,
      "outputs": [
        {
          "output_type": "stream",
          "name": "stdout",
          "text": [
            "Confusion Matrix:\n",
            "DenseMatrix([[470.,   6.],\n",
            "             [ 27., 500.]])\n",
            "Precision: 0.9456740442655935\n",
            "Recall: 0.9873949579831933\n",
            "F1 Score: 0.9660842754367935\n"
          ]
        }
      ]
    },
    {
      "cell_type": "code",
      "source": [
        "from pyspark.ml.classification import LinearSVC\n",
        "svm = LinearSVC(maxIter=10, regParam=0.1)\n",
        "pipeline_svm = Pipeline(stages=[label_indexer, vector_assembler, svm])\n",
        "model_svm = pipeline_svm.fit(training_data)\n",
        "predictions_svm = model_svm.transform(testing_data)\n",
        "accuracy_svm = evaluator.evaluate(predictions_svm)\n",
        "print(f\"SVM Accuracy: {accuracy_svm}\")"
      ],
      "metadata": {
        "colab": {
          "base_uri": "https://localhost:8080/"
        },
        "id": "vwS5LyiXoB0O",
        "outputId": "1b8df0ef-0e90-46b7-e619-8101c84edb46"
      },
      "execution_count": null,
      "outputs": [
        {
          "output_type": "stream",
          "name": "stdout",
          "text": [
            "SVM Accuracy: 0.9641076769690927\n"
          ]
        }
      ]
    },
    {
      "cell_type": "code",
      "source": [
        "prediction_and_label_svm = predictions_svm.select(\"prediction\", \"label\").rdd"
      ],
      "metadata": {
        "id": "5V-c4LTlWt2W"
      },
      "execution_count": null,
      "outputs": []
    },
    {
      "cell_type": "code",
      "source": [
        "metrics_svm = MulticlassMetrics(prediction_and_label_svm)"
      ],
      "metadata": {
        "colab": {
          "base_uri": "https://localhost:8080/"
        },
        "id": "zNfv7VDJYBqX",
        "outputId": "a43df5db-9ebc-4e5d-a909-c0762b781f6c"
      },
      "execution_count": null,
      "outputs": [
        {
          "output_type": "stream",
          "name": "stderr",
          "text": [
            "/usr/local/lib/python3.10/dist-packages/pyspark/sql/context.py:158: FutureWarning: Deprecated in 3.0.0. Use SparkSession.builder.getOrCreate() instead.\n",
            "  warnings.warn(\n"
          ]
        }
      ]
    },
    {
      "cell_type": "code",
      "source": [
        "confusion_matrix = metrics_svm.confusionMatrix()\n",
        "precision = metrics_svm.precision(0.0)\n",
        "recall = metrics_svm.recall(0.0)\n",
        "f1Score = metrics_svm.fMeasure(0.0)\n",
        "print(\"Confusion Matrix:\")\n",
        "print(confusion_matrix)\n",
        "print(f\"Precision: {precision}\")\n",
        "print(f\"Recall: {recall}\")\n",
        "print(f\"F1 Score: {f1Score}\")"
      ],
      "metadata": {
        "colab": {
          "base_uri": "https://localhost:8080/"
        },
        "id": "dk1N22iBYjka",
        "outputId": "1cb4d928-53f8-4b6a-e7af-1f2529f19ca4"
      },
      "execution_count": null,
      "outputs": [
        {
          "output_type": "stream",
          "name": "stdout",
          "text": [
            "Confusion Matrix:\n",
            "DenseMatrix([[462.,  14.],\n",
            "             [ 22., 505.]])\n",
            "Precision: 0.9545454545454546\n",
            "Recall: 0.9705882352941176\n",
            "F1 Score: 0.9625\n"
          ]
        }
      ]
    },
    {
      "cell_type": "code",
      "source": [
        "import matplotlib.pyplot as plt\n",
        "import seaborn as sns"
      ],
      "metadata": {
        "id": "28nTgf7_ZrwF"
      },
      "execution_count": null,
      "outputs": []
    },
    {
      "cell_type": "code",
      "source": [
        "algorithm_names = [\"Logistic Regression\", \"Random Forest\", \"Decision Tree\", \"Support Vector Machine\"]\n",
        "accuracy_scores = [0.953, 0.967, 0.962, 0.964]\n",
        "precision_scores = [0.930, 0.946, 0.947, 0.955]\n",
        "recall_scores = [0.975, 0.987, 0.975, 0.971]\n",
        "f1_scores = [0.952, 0.966, 0.961, 0.963]"
      ],
      "metadata": {
        "id": "qpFPr7g6rS_k"
      },
      "execution_count": null,
      "outputs": []
    },
    {
      "cell_type": "code",
      "source": [
        "import pandas as pd\n",
        "df = pd.DataFrame({\n",
        "    'Algorithm': algorithm_names,\n",
        "    'Accuracy': accuracy_scores,\n",
        "    'Precision': precision_scores,\n",
        "    'Recall': recall_scores,\n",
        "    'F1 Score': f1_scores\n",
        "})"
      ],
      "metadata": {
        "id": "St6j7-9srZW4"
      },
      "execution_count": null,
      "outputs": []
    },
    {
      "cell_type": "code",
      "source": [
        "import numpy as np"
      ],
      "metadata": {
        "id": "XmvQPL6atva5"
      },
      "execution_count": null,
      "outputs": []
    },
    {
      "cell_type": "code",
      "source": [
        "ind = np.arange(len(algorithm_names))\n",
        "width = 0.2"
      ],
      "metadata": {
        "id": "zS1DeZcCuPnO"
      },
      "execution_count": null,
      "outputs": []
    },
    {
      "cell_type": "code",
      "source": [
        "fig, ax = plt.subplots(figsize=(12, 8))\n",
        "\n",
        "rects1 = ax.bar(ind - width, accuracy_scores, width, label='Accuracy', color='skyblue')\n",
        "rects2 = ax.bar(ind, precision_scores, width, label='Precision', color='lightgreen')\n",
        "rects3 = ax.bar(ind + width, recall_scores, width, label='Recall', color='lightcoral')\n",
        "rects4 = ax.bar(ind + 2*width, f1_scores, width, label='F1 Score', color='lightpink')\n",
        "ax.set_xlabel('Algorithms')\n",
        "ax.set_title('Performance Metrics of Classification Algorithms')\n",
        "ax.set_xticks(ind + width / 2)\n",
        "ax.set_xticklabels(algorithm_names)\n",
        "ax.legend()\n",
        "plt.show()"
      ],
      "metadata": {
        "colab": {
          "base_uri": "https://localhost:8080/",
          "height": 718
        },
        "id": "-69lslljuRBD",
        "outputId": "3709a98d-9d8b-4fb4-ac6f-958d5edda969"
      },
      "execution_count": null,
      "outputs": [
        {
          "output_type": "display_data",
          "data": {
            "text/plain": [
              "<Figure size 1200x800 with 1 Axes>"
            ],
            "image/png": "[encoded data removed]"
          },
          "metadata": {}
        }
      ]
    },
    {
      "cell_type": "code",
      "source": [
        "spark.stop()"
      ],
      "metadata": {
        "id": "xzYeM8W_vaTr"
      },
      "execution_count": null,
      "outputs": []
    }
  ]
}